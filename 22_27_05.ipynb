{
  "nbformat": 4,
  "nbformat_minor": 0,
  "metadata": {
    "colab": {
      "provenance": [],
      "authorship_tag": "ABX9TyOPJrtL/3fK0w9t3oPMEV5R",
      "include_colab_link": true
    },
    "kernelspec": {
      "name": "python3",
      "display_name": "Python 3"
    },
    "language_info": {
      "name": "python"
    }
  },
  "cells": [
    {
      "cell_type": "markdown",
      "metadata": {
        "id": "view-in-github",
        "colab_type": "text"
      },
      "source": [
        "<a href=\"https://colab.research.google.com/github/Virendra513/DSTT_22-27-05/blob/Assignment-1/22_27_05.ipynb\" target=\"_parent\"><img src=\"https://colab.research.google.com/assets/colab-badge.svg\" alt=\"Open In Colab\"/></a>"
      ]
    },
    {
      "cell_type": "markdown",
      "source": [
        "Name: Virendra Singh Kaira\n",
        "Regd. No.-22-27-05"
      ],
      "metadata": {
        "id": "CyjH8Sy64e1P"
      }
    },
    {
      "cell_type": "markdown",
      "source": [
        "Given an integer number n, you have to print the factorial of this number."
      ],
      "metadata": {
        "id": "uSue_jWO6pIv"
      }
    },
    {
      "cell_type": "code",
      "source": [
        "## Question 5\n",
        "m=int(input((\"Input any number\")))\n",
        "print(\"Input: \\n %d\" %m)\n",
        "fact=1\n",
        "if m==0:\n",
        "  print(\"Output:\\n 1\")\n",
        "elif m==1:\n",
        "  print(\"Output:\\n 1\")\n",
        "for i in range(1,m+1):\n",
        "  fact=fact*i\n",
        "print(\"Output:\\n\",fact)"
      ],
      "metadata": {
        "colab": {
          "base_uri": "https://localhost:8080/"
        },
        "id": "yWNlCUVv7MHq",
        "outputId": "eeead2a6-4dd2-4459-8c37-3b9d34527220"
      },
      "execution_count": null,
      "outputs": [
        {
          "output_type": "stream",
          "name": "stdout",
          "text": [
            "Input any number4\n",
            "Input: \n",
            " 4\n",
            "Output:\n",
            " 24\n"
          ]
        }
      ]
    },
    {
      "cell_type": "code",
      "source": [
        "## Question 2\n",
        "n=[12,20,26,24,25]\n",
        "n.sort()\n",
        "print(\"Second Maximum\",n[len(n)-3],\"Second Mininmum\",n[1])\n"
      ],
      "metadata": {
        "colab": {
          "base_uri": "https://localhost:8080/"
        },
        "id": "ZigQtWyF9ZNV",
        "outputId": "72b5efb4-a36c-4a44-c67e-bc9697fdc9c7"
      },
      "execution_count": null,
      "outputs": [
        {
          "output_type": "stream",
          "name": "stdout",
          "text": [
            "Second Maximum 24 Second Mininmum 20\n"
          ]
        }
      ]
    },
    {
      "cell_type": "code",
      "source": [
        "## Question 3\n",
        "m=[1,2,3,4,5,6,5,10]\n",
        "print(m)\n",
        "for i in m:\n",
        "  if i%5!=0:\n",
        "    print(i,end=\" \")"
      ],
      "metadata": {
        "colab": {
          "base_uri": "https://localhost:8080/"
        },
        "id": "ja-6f4LjAY0r",
        "outputId": "25276355-3757-4748-da36-236872839300"
      },
      "execution_count": null,
      "outputs": [
        {
          "output_type": "stream",
          "name": "stdout",
          "text": [
            "[1, 2, 3, 4, 5, 6, 5, 10]\n",
            "1 2 3 4 6 "
          ]
        }
      ]
    },
    {
      "cell_type": "code",
      "source": [
        "## QUestion 1\n",
        "lst=[]\n",
        "n=int(input('enter size of list'))\n",
        "for i in range(1,n+1):\n",
        "  b=int(input())\n",
        "  lst.append(b)\n",
        "print(\"Entered list is\",lst)\n",
        "c=[]\n",
        "for i in range(len(lst)-1,-1,-1):\n",
        "  c.append(lst[i])\n",
        "print(\"Reverse list:\",c)\n",
        "res_list = [lst[i] + c[i] for i in range(len(lst))]\n",
        " \n",
        "# printing resultant list\n",
        "print (\"Resultant list is : \" ,res_list)"
      ],
      "metadata": {
        "colab": {
          "base_uri": "https://localhost:8080/"
        },
        "id": "jwfjDb0xM5vm",
        "outputId": "280e51ff-eb62-4304-b76e-03e8d21d27d8"
      },
      "execution_count": 9,
      "outputs": [
        {
          "output_type": "stream",
          "name": "stdout",
          "text": [
            "enter size of list10\n",
            "2\n",
            "5\n",
            "6\n",
            "8\n",
            "9\n",
            "9\n",
            "5\n",
            "2\n",
            "11\n",
            "22\n",
            "Entered list is [2, 5, 6, 8, 9, 9, 5, 2, 11, 22]\n",
            "Reverse list: [22, 11, 2, 5, 9, 9, 8, 6, 5, 2]\n",
            "Resultant list is :  [24, 16, 8, 13, 18, 18, 13, 8, 16, 24]\n"
          ]
        }
      ]
    }
  ]
}