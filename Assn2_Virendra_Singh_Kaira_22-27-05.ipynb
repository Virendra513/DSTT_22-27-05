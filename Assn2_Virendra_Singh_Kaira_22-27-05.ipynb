{
 "cells": [
  {
   "cell_type": "markdown",
   "id": "4932c200",
   "metadata": {},
   "source": [
    "# Housing Data  Preprocessing"
   ]
  },
  {
   "cell_type": "code",
   "execution_count": 342,
   "id": "6e6a1e87",
   "metadata": {},
   "outputs": [],
   "source": [
    "# Reading the housing data\n",
    "import pandas as pd\n",
    "data=pd.read_csv('E:\\DS_ACADEMIC\\DS2\\DSTT\\Excercise code\\housingdata.csv')"
   ]
  },
  {
   "cell_type": "markdown",
   "id": "dd586739",
   "metadata": {},
   "source": [
    "****************************************************************************"
   ]
  },
  {
   "cell_type": "code",
   "execution_count": 343,
   "id": "3f758aca",
   "metadata": {},
   "outputs": [
    {
     "data": {
      "text/html": [
       "<div>\n",
       "<style scoped>\n",
       "    .dataframe tbody tr th:only-of-type {\n",
       "        vertical-align: middle;\n",
       "    }\n",
       "\n",
       "    .dataframe tbody tr th {\n",
       "        vertical-align: top;\n",
       "    }\n",
       "\n",
       "    .dataframe thead th {\n",
       "        text-align: right;\n",
       "    }\n",
       "</style>\n",
       "<table border=\"1\" class=\"dataframe\">\n",
       "  <thead>\n",
       "    <tr style=\"text-align: right;\">\n",
       "      <th></th>\n",
       "      <th>PID</th>\n",
       "      <th>STATE</th>\n",
       "      <th>PRICE</th>\n",
       "      <th>NUM_BEDROOMS</th>\n",
       "      <th>NUM_BATH</th>\n",
       "      <th>SQ_FT</th>\n",
       "    </tr>\n",
       "  </thead>\n",
       "  <tbody>\n",
       "    <tr>\n",
       "      <th>0</th>\n",
       "      <td>100001000.0</td>\n",
       "      <td>MP</td>\n",
       "      <td>321654</td>\n",
       "      <td>3</td>\n",
       "      <td>1</td>\n",
       "      <td>1000</td>\n",
       "    </tr>\n",
       "    <tr>\n",
       "      <th>1</th>\n",
       "      <td>100002000.0</td>\n",
       "      <td>MAHARASHTRA</td>\n",
       "      <td>21325</td>\n",
       "      <td>3</td>\n",
       "      <td>1.5</td>\n",
       "      <td>--</td>\n",
       "    </tr>\n",
       "    <tr>\n",
       "      <th>2</th>\n",
       "      <td>100003000.0</td>\n",
       "      <td>AP</td>\n",
       "      <td>2541654</td>\n",
       "      <td>NaN</td>\n",
       "      <td>1</td>\n",
       "      <td>850</td>\n",
       "    </tr>\n",
       "    <tr>\n",
       "      <th>3</th>\n",
       "      <td>100004000.0</td>\n",
       "      <td>TN</td>\n",
       "      <td>321321</td>\n",
       "      <td>1</td>\n",
       "      <td>NaN</td>\n",
       "      <td>700</td>\n",
       "    </tr>\n",
       "    <tr>\n",
       "      <th>4</th>\n",
       "      <td>NaN</td>\n",
       "      <td>TN</td>\n",
       "      <td>589465645</td>\n",
       "      <td>3</td>\n",
       "      <td>2</td>\n",
       "      <td>1600</td>\n",
       "    </tr>\n",
       "    <tr>\n",
       "      <th>5</th>\n",
       "      <td>100006000.0</td>\n",
       "      <td>TN</td>\n",
       "      <td>65465466</td>\n",
       "      <td>NaN</td>\n",
       "      <td>1</td>\n",
       "      <td>800</td>\n",
       "    </tr>\n",
       "  </tbody>\n",
       "</table>\n",
       "</div>"
      ],
      "text/plain": [
       "           PID        STATE      PRICE NUM_BEDROOMS NUM_BATH SQ_FT\n",
       "0  100001000.0           MP     321654            3        1  1000\n",
       "1  100002000.0  MAHARASHTRA      21325            3      1.5    --\n",
       "2  100003000.0           AP    2541654          NaN        1   850\n",
       "3  100004000.0           TN     321321            1      NaN   700\n",
       "4          NaN           TN  589465645            3        2  1600\n",
       "5  100006000.0           TN   65465466          NaN        1   800"
      ]
     },
     "execution_count": 343,
     "metadata": {},
     "output_type": "execute_result"
    }
   ],
   "source": [
    "# Displaying first 6 rows\n",
    "data.head(6)"
   ]
  },
  {
   "cell_type": "markdown",
   "id": "1c2c85b9",
   "metadata": {},
   "source": [
    "****************************************************************************"
   ]
  },
  {
   "cell_type": "code",
   "execution_count": 344,
   "id": "24230162",
   "metadata": {},
   "outputs": [
    {
     "data": {
      "text/plain": [
       "['PID', 'STATE', 'PRICE', 'NUM_BEDROOMS', 'NUM_BATH', 'SQ_FT']"
      ]
     },
     "execution_count": 344,
     "metadata": {},
     "output_type": "execute_result"
    }
   ],
   "source": [
    "#Displaying column names\n",
    "data.columns.tolist()"
   ]
  },
  {
   "cell_type": "markdown",
   "id": "a204097e",
   "metadata": {},
   "source": [
    "****************************************************************************"
   ]
  },
  {
   "cell_type": "code",
   "execution_count": 345,
   "id": "870a7090",
   "metadata": {},
   "outputs": [
    {
     "data": {
      "text/plain": [
       "[0, 1, 2, 3, 4, 5, 6, 7, 8]"
      ]
     },
     "execution_count": 345,
     "metadata": {},
     "output_type": "execute_result"
    }
   ],
   "source": [
    "#Displaying column names\n",
    "data.index.tolist()"
   ]
  },
  {
   "cell_type": "markdown",
   "id": "c7962886",
   "metadata": {},
   "source": [
    "****************************************************************************"
   ]
  },
  {
   "cell_type": "code",
   "execution_count": 346,
   "id": "19d1c5dc",
   "metadata": {},
   "outputs": [
    {
     "data": {
      "text/plain": [
       "(9,)"
      ]
     },
     "execution_count": 346,
     "metadata": {},
     "output_type": "execute_result"
    }
   ],
   "source": [
    "#Number of 'STATE' exist in the dtaset\n",
    "data.STATE.shape"
   ]
  },
  {
   "cell_type": "markdown",
   "id": "31751021",
   "metadata": {},
   "source": [
    "****************************************************************************"
   ]
  },
  {
   "cell_type": "code",
   "execution_count": 347,
   "id": "3e12421f",
   "metadata": {},
   "outputs": [
    {
     "name": "stdout",
     "output_type": "stream",
     "text": [
      "['MP' 'MAHARASHTRA' 'AP' 'TN' 'ASSAM' 'HP']\n",
      "6\n"
     ]
    }
   ],
   "source": [
    "#Unique state exist in the dataset\n",
    "import numpy as np\n",
    "list1=pd.unique(data.STATE)\n",
    "print(list1)\n",
    "print(len(list1))\n"
   ]
  },
  {
   "cell_type": "markdown",
   "id": "965f0663",
   "metadata": {},
   "source": [
    "****************************************************************************"
   ]
  },
  {
   "cell_type": "code",
   "execution_count": 348,
   "id": "a446020b",
   "metadata": {},
   "outputs": [
    {
     "data": {
      "text/plain": [
       "<bound method DataFrame.isna of            PID        STATE      PRICE NUM_BEDROOMS NUM_BATH SQ_FT\n",
       "0  100001000.0           MP     321654            3        1  1000\n",
       "1  100002000.0  MAHARASHTRA      21325            3      1.5    --\n",
       "2  100003000.0           AP    2541654          NaN        1   850\n",
       "3  100004000.0           TN     321321            1      NaN   700\n",
       "4          NaN           TN  589465645            3        2  1600\n",
       "5  100006000.0           TN   65465466          NaN        1   800\n",
       "6  100007000.0        ASSAM    3222321            2   HURLEY   950\n",
       "7  100008000.0           HP      23131            1        1   NaN\n",
       "8  100009000.0           HP      21212           na        2  1800>"
      ]
     },
     "execution_count": 348,
     "metadata": {},
     "output_type": "execute_result"
    }
   ],
   "source": [
    "#List of all NaN\n",
    "data.isna"
   ]
  },
  {
   "cell_type": "markdown",
   "id": "69106604",
   "metadata": {},
   "source": [
    "****************************************************************************"
   ]
  },
  {
   "cell_type": "code",
   "execution_count": 349,
   "id": "79a42a26",
   "metadata": {},
   "outputs": [
    {
     "name": "stdout",
     "output_type": "stream",
     "text": [
      "           PID        STATE      PRICE NUM_BEDROOMS NUM_BATH SQ_FT\n",
      "0  100001000.0           MP     321654            3        1  1000\n",
      "1  100002000.0  MAHARASHTRA      21325            3      1.5    --\n",
      "3  100004000.0           TN     321321            1      NaN   700\n",
      "4          NaN           TN  589465645            3        2  1600\n",
      "6  100007000.0        ASSAM    3222321            2   HURLEY   950\n",
      "7  100008000.0           HP      23131            1        1   NaN\n"
     ]
    }
   ],
   "source": [
    "#Drop all rows with values is Num_Bedroom\n",
    "data=data.dropna(subset=['NUM_BEDROOMS'])\n",
    "data=data[(data.NUM_BEDROOMS != 'na')]\n",
    "print(data)"
   ]
  },
  {
   "cell_type": "markdown",
   "id": "64d61d98",
   "metadata": {},
   "source": [
    "****************************************************************************"
   ]
  },
  {
   "cell_type": "code",
   "execution_count": 350,
   "id": "db60a494",
   "metadata": {},
   "outputs": [
    {
     "name": "stdout",
     "output_type": "stream",
     "text": [
      "           PID        STATE      PRICE NUM_BEDROOMS NUM_BATH SQ_FT\n",
      "0  100001000.0           MP     321654            3        1  1000\n",
      "1  100002000.0  MAHARASHTRA      21325            3      1.5    --\n",
      "3  100004000.0           TN     321321            1      1.5   700\n",
      "4          NaN           TN  589465645            3        2  1600\n",
      "6  100007000.0        ASSAM    3222321            2        2   950\n",
      "7  100008000.0           HP      23131            1        1   NaN\n"
     ]
    }
   ],
   "source": [
    "#Replace the NaN and string entries in 'NUM_BATH' with previous entries.\n",
    "data['NUM_BATH']=data.NUM_BATH.fillna(method='ffill')\n",
    "data['NUM_BATH']=data.NUM_BATH.replace('HURLEY',2)\n",
    "print(data)"
   ]
  },
  {
   "cell_type": "markdown",
   "id": "36a877ee",
   "metadata": {},
   "source": [
    "****************************************************************************"
   ]
  },
  {
   "cell_type": "code",
   "execution_count": 351,
   "id": "427ef90f",
   "metadata": {},
   "outputs": [
    {
     "name": "stdout",
     "output_type": "stream",
     "text": [
      "           PID        STATE      PRICE NUM_BEDROOMS NUM_BATH   SQ_FT\n",
      "0  100001000.0           MP     321654            3        1  1000.0\n",
      "1  100002000.0  MAHARASHTRA      21325            3      1.5  1062.5\n",
      "3  100004000.0           TN     321321            1      1.5   700.0\n",
      "4          NaN           TN  589465645            3        2  1600.0\n",
      "6  100007000.0        ASSAM    3222321            2        2   950.0\n",
      "7  100008000.0           HP      23131            1        1  1062.5\n"
     ]
    }
   ],
   "source": [
    "# Replace the empty values in 'SQ_FT' with the mean of all entries\n",
    "data['SQ_FT']=data.SQ_FT.replace('--',np.NaN)\n",
    "data['SQ_FT']=data.SQ_FT.astype(float)\n",
    "data['SQ_FT']=data.SQ_FT.replace(np.NaN,data.SQ_FT.mean())\n",
    "print(data)"
   ]
  },
  {
   "cell_type": "markdown",
   "id": "49fdb84f",
   "metadata": {},
   "source": [
    "****************************************************************************"
   ]
  },
  {
   "cell_type": "code",
   "execution_count": 352,
   "id": "b864cfb3",
   "metadata": {},
   "outputs": [
    {
     "name": "stdout",
     "output_type": "stream",
     "text": [
      "6375.0\n"
     ]
    }
   ],
   "source": [
    "# Sum of SQ_FT of all entries in the dataset\n",
    "sum=data.SQ_FT.sum()\n",
    "print(sum)"
   ]
  },
  {
   "cell_type": "markdown",
   "id": "7f9da441",
   "metadata": {},
   "source": [
    "****************************************************************************"
   ]
  },
  {
   "cell_type": "code",
   "execution_count": 353,
   "id": "380a9b3f",
   "metadata": {},
   "outputs": [
    {
     "data": {
      "text/html": [
       "<div>\n",
       "<style scoped>\n",
       "    .dataframe tbody tr th:only-of-type {\n",
       "        vertical-align: middle;\n",
       "    }\n",
       "\n",
       "    .dataframe tbody tr th {\n",
       "        vertical-align: top;\n",
       "    }\n",
       "\n",
       "    .dataframe thead th {\n",
       "        text-align: right;\n",
       "    }\n",
       "</style>\n",
       "<table border=\"1\" class=\"dataframe\">\n",
       "  <thead>\n",
       "    <tr style=\"text-align: right;\">\n",
       "      <th></th>\n",
       "      <th>PID</th>\n",
       "      <th>STATE</th>\n",
       "      <th>PRICE</th>\n",
       "      <th>NUM_BEDROOMS</th>\n",
       "      <th>NUM_BATH</th>\n",
       "      <th>SQ_FT</th>\n",
       "      <th>NUM_STORE</th>\n",
       "    </tr>\n",
       "  </thead>\n",
       "  <tbody>\n",
       "    <tr>\n",
       "      <th>0</th>\n",
       "      <td>100001000.0</td>\n",
       "      <td>MP</td>\n",
       "      <td>321654</td>\n",
       "      <td>3</td>\n",
       "      <td>1</td>\n",
       "      <td>1000.0</td>\n",
       "      <td>1</td>\n",
       "    </tr>\n",
       "    <tr>\n",
       "      <th>1</th>\n",
       "      <td>100002000.0</td>\n",
       "      <td>MAHARASHTRA</td>\n",
       "      <td>21325</td>\n",
       "      <td>3</td>\n",
       "      <td>1.5</td>\n",
       "      <td>1062.5</td>\n",
       "      <td>1</td>\n",
       "    </tr>\n",
       "    <tr>\n",
       "      <th>3</th>\n",
       "      <td>100004000.0</td>\n",
       "      <td>TN</td>\n",
       "      <td>321321</td>\n",
       "      <td>1</td>\n",
       "      <td>1.5</td>\n",
       "      <td>700.0</td>\n",
       "      <td>1</td>\n",
       "    </tr>\n",
       "    <tr>\n",
       "      <th>4</th>\n",
       "      <td>NaN</td>\n",
       "      <td>TN</td>\n",
       "      <td>589465645</td>\n",
       "      <td>3</td>\n",
       "      <td>2</td>\n",
       "      <td>1600.0</td>\n",
       "      <td>1</td>\n",
       "    </tr>\n",
       "    <tr>\n",
       "      <th>6</th>\n",
       "      <td>100007000.0</td>\n",
       "      <td>ASSAM</td>\n",
       "      <td>3222321</td>\n",
       "      <td>2</td>\n",
       "      <td>2</td>\n",
       "      <td>950.0</td>\n",
       "      <td>1</td>\n",
       "    </tr>\n",
       "    <tr>\n",
       "      <th>7</th>\n",
       "      <td>100008000.0</td>\n",
       "      <td>HP</td>\n",
       "      <td>23131</td>\n",
       "      <td>1</td>\n",
       "      <td>1</td>\n",
       "      <td>1062.5</td>\n",
       "      <td>1</td>\n",
       "    </tr>\n",
       "  </tbody>\n",
       "</table>\n",
       "</div>"
      ],
      "text/plain": [
       "           PID        STATE      PRICE NUM_BEDROOMS NUM_BATH   SQ_FT  \\\n",
       "0  100001000.0           MP     321654            3        1  1000.0   \n",
       "1  100002000.0  MAHARASHTRA      21325            3      1.5  1062.5   \n",
       "3  100004000.0           TN     321321            1      1.5   700.0   \n",
       "4          NaN           TN  589465645            3        2  1600.0   \n",
       "6  100007000.0        ASSAM    3222321            2        2   950.0   \n",
       "7  100008000.0           HP      23131            1        1  1062.5   \n",
       "\n",
       "   NUM_STORE  \n",
       "0          1  \n",
       "1          1  \n",
       "3          1  \n",
       "4          1  \n",
       "6          1  \n",
       "7          1  "
      ]
     },
     "execution_count": 353,
     "metadata": {},
     "output_type": "execute_result"
    }
   ],
   "source": [
    "# Add a new column \"NUM_STORE\" and with all the values as 1 for all rows\n",
    "data['NUM_STORE']=1\n",
    "data"
   ]
  },
  {
   "cell_type": "markdown",
   "id": "ebf79c99",
   "metadata": {},
   "source": [
    "****************************************************************************"
   ]
  },
  {
   "cell_type": "code",
   "execution_count": 361,
   "id": "1a9fe500",
   "metadata": {},
   "outputs": [
    {
     "name": "stdout",
     "output_type": "stream",
     "text": [
      "           PID STATE      PRICE NUM_BEDROOMS NUM_BATH   SQ_FT  NUM_STORE\n",
      "3  100004000.0    TN     321321            1      1.5   700.0          1\n",
      "4          NaN    TN  589465645            3        2  1600.0          1\n"
     ]
    }
   ],
   "source": [
    "# Create a DataFrame ontainning all entries of TN state only\n",
    "df1=pd.DataFrame(data[data['STATE']=='TN'])\n",
    "print(df1)"
   ]
  },
  {
   "cell_type": "markdown",
   "id": "f6c1589b",
   "metadata": {},
   "source": [
    "*****************************************************************************"
   ]
  },
  {
   "cell_type": "code",
   "execution_count": 364,
   "id": "642ba14a",
   "metadata": {},
   "outputs": [
    {
     "name": "stdout",
     "output_type": "stream",
     "text": [
      "           PID        STATE      PRICE NUM_BEDROOMS NUM_BATH   SQ_FT  \\\n",
      "1  100002000.0  MAHARASHTRA      21325            3      1.5  1062.5   \n",
      "4          NaN           TN  589465645            3        2  1600.0   \n",
      "7  100008000.0           HP      23131            1        1  1062.5   \n",
      "\n",
      "   NUM_STORE  \n",
      "1          1  \n",
      "4          1  \n",
      "7          1  \n"
     ]
    }
   ],
   "source": [
    "# Create a DataFrame having SQ_FT area greater than 1000 and display the DataFrame\n",
    "df2=pd.DataFrame(data[data['SQ_FT']>1000])\n",
    "print(df2)"
   ]
  },
  {
   "cell_type": "markdown",
   "id": "ccce3458",
   "metadata": {},
   "source": [
    "*******************************END********************************************"
   ]
  }
 ],
 "metadata": {
  "kernelspec": {
   "display_name": "Python 3 (ipykernel)",
   "language": "python",
   "name": "python3"
  },
  "language_info": {
   "codemirror_mode": {
    "name": "ipython",
    "version": 3
   },
   "file_extension": ".py",
   "mimetype": "text/x-python",
   "name": "python",
   "nbconvert_exporter": "python",
   "pygments_lexer": "ipython3",
   "version": "3.8.6"
  }
 },
 "nbformat": 4,
 "nbformat_minor": 5
}
